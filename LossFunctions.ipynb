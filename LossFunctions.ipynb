{
 "cells": [
  {
   "cell_type": "code",
   "execution_count": 1,
   "metadata": {},
   "outputs": [],
   "source": [
    "import numpy as np"
   ]
  },
  {
   "cell_type": "code",
   "execution_count": 11,
   "metadata": {},
   "outputs": [],
   "source": [
    "class LossFunctions:\n",
    "    \n",
    "    def L1(self, yhat, y):\n",
    "        '''\n",
    "            Return L1(ŷ ,y)=∑i=0m|y(i)−ŷ (i)|\n",
    "        '''\n",
    "        return np.sum(np.absolute(yhat - y))\n",
    "    \n",
    "    def L2(self, yhat, y):\n",
    "        '''\n",
    "            Return L1(ŷ ,y)=∑i=0m(y(i)−ŷ (i))^2\n",
    "        '''\n",
    "        return np.sum(np.square(yhat-y))"
   ]
  },
  {
   "cell_type": "code",
   "execution_count": 12,
   "metadata": {},
   "outputs": [],
   "source": [
    "myLossFunctions = LossFunctions()"
   ]
  },
  {
   "cell_type": "code",
   "execution_count": 13,
   "metadata": {},
   "outputs": [
    {
     "data": {
      "text/plain": [
       "1.1"
      ]
     },
     "execution_count": 13,
     "metadata": {},
     "output_type": "execute_result"
    }
   ],
   "source": [
    "myLossFunctions.L1(np.array([1, 0, 0, 1, 1]), np.array([.9, 0.2, 0.1, .4, .9]))"
   ]
  },
  {
   "cell_type": "code",
   "execution_count": 14,
   "metadata": {},
   "outputs": [
    {
     "data": {
      "text/plain": [
       "0.43"
      ]
     },
     "execution_count": 14,
     "metadata": {},
     "output_type": "execute_result"
    }
   ],
   "source": [
    "myLossFunctions.L2(np.array([.9, 0.2, 0.1, .4, .9]), np.array([1, 0, 0, 1, 1]))"
   ]
  }
 ],
 "metadata": {
  "kernelspec": {
   "display_name": "Python 3",
   "language": "python",
   "name": "python3"
  },
  "language_info": {
   "codemirror_mode": {
    "name": "ipython",
    "version": 3
   },
   "file_extension": ".py",
   "mimetype": "text/x-python",
   "name": "python",
   "nbconvert_exporter": "python",
   "pygments_lexer": "ipython3",
   "version": "3.7.4"
  }
 },
 "nbformat": 4,
 "nbformat_minor": 2
}
