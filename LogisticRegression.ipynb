{
 "cells": [
  {
   "cell_type": "code",
   "execution_count": 137,
   "metadata": {},
   "outputs": [],
   "source": [
    "import numpy as np\n",
    "import itertools as it\n",
    "import matplotlib.pyplot as plt\n",
    "import h5py\n",
    "import scipy\n",
    "from PIL import Image\n",
    "from scipy import ndimage\n",
    "import h5py\n"
   ]
  },
  {
   "cell_type": "code",
   "execution_count": 46,
   "metadata": {},
   "outputs": [],
   "source": [
    "import import_ipynb\n",
    "from Normalization import Normalizer\n",
    "from ActivationFunctions import ActivationFunctions\n",
    "from LossFunctions import LossFunctions"
   ]
  },
  {
   "cell_type": "markdown",
   "metadata": {},
   "source": [
    "## Import data"
   ]
  },
  {
   "cell_type": "code",
   "execution_count": 101,
   "metadata": {},
   "outputs": [],
   "source": [
    "trainFilename = \"./data/train_catvnoncat.h5\"\n",
    "testFilename = \"./data/test_catvnoncat.h5\""
   ]
  },
  {
   "cell_type": "code",
   "execution_count": 102,
   "metadata": {},
   "outputs": [],
   "source": [
    "def load_dataset():\n",
    "    train_dataset = h5py.File(trainFilename, \"r\")\n",
    "    train_set_x_orig = np.array(train_dataset[\"train_set_x\"][:]) # your train set features\n",
    "    train_set_y_orig = np.array(train_dataset[\"train_set_y\"][:]) # your train set labels\n",
    "\n",
    "    test_dataset = h5py.File(testFilename, \"r\")\n",
    "    test_set_x_orig = np.array(test_dataset[\"test_set_x\"][:]) # your test set features\n",
    "    test_set_y_orig = np.array(test_dataset[\"test_set_y\"][:]) # your test set labels\n",
    "\n",
    "    classes = np.array(test_dataset[\"list_classes\"][:]) # the list of classes\n",
    "    \n",
    "    train_set_y_orig = train_set_y_orig.reshape((1, train_set_y_orig.shape[0]))\n",
    "    test_set_y_orig = test_set_y_orig.reshape((1, test_set_y_orig.shape[0]))\n",
    "    \n",
    "    return train_set_x_orig, train_set_y_orig, test_set_x_orig, test_set_y_orig, classes"
   ]
  },
  {
   "cell_type": "code",
   "execution_count": 103,
   "metadata": {},
   "outputs": [],
   "source": [
    "train_set_x_orig, train_set_y, test_set_x_orig, test_set_y, classes = load_dataset()"
   ]
  },
  {
   "cell_type": "code",
   "execution_count": 104,
   "metadata": {},
   "outputs": [
    {
     "name": "stdout",
     "output_type": "stream",
     "text": [
      "y = [1], it's a 'cat' picture.\n"
     ]
    },
    {
     "data": {
      "image/png": "[encoded data removed]",
      "text/plain": [
       "<Figure size 432x288 with 1 Axes>"
      ]
     },
     "metadata": {
      "needs_background": "light"
     },
     "output_type": "display_data"
    }
   ],
   "source": [
    "index = 25\n",
    "plt.imshow(train_set_x_orig[index])\n",
    "print (\"y = \" + str(train_set_y[:, index]) + \", it's a '\" + classes[np.squeeze(train_set_y[:, index])].decode(\"utf-8\") +  \"' picture.\")"
   ]
  },
  {
   "cell_type": "markdown",
   "metadata": {},
   "source": [
    "## Data formalization"
   ]
  },
  {
   "cell_type": "code",
   "execution_count": 105,
   "metadata": {},
   "outputs": [],
   "source": [
    "m_train = train_set_x_orig.shape[0]\n",
    "m_test = test_set_x_orig.shape[0]\n",
    "num_px = test_set_x_orig.shape[1]"
   ]
  },
  {
   "cell_type": "code",
   "execution_count": 106,
   "metadata": {},
   "outputs": [],
   "source": [
    "#Flatten the vectors into 1D ones\n",
    "\n",
    "train_set_x_flatten = train_set_x_orig.reshape(train_set_x_orig.shape[0], -1).T\n",
    "test_set_x_flatten = test_set_x_orig.reshape(test_set_x_orig.shape[0], -1).T"
   ]
  },
  {
   "cell_type": "code",
   "execution_count": 107,
   "metadata": {},
   "outputs": [],
   "source": [
    "train_set_x = train_set_x_flatten/255.\n",
    "test_set_x = test_set_x_flatten/255."
   ]
  },
  {
   "cell_type": "markdown",
   "metadata": {},
   "source": [
    "## Logistic Regression Class"
   ]
  },
  {
   "cell_type": "code",
   "execution_count": 168,
   "metadata": {},
   "outputs": [],
   "source": [
    "class LogisticRegression:\n",
    "    activationFunctions = ActivationFunctions()\n",
    "    normalizer = Normalizer()\n",
    "    lossFunctions = LossFunctions()\n",
    "    default_learning_rate = 0.5\n",
    "    default_num_iterations = 2000\n",
    "    w = []\n",
    "    b = 0\n",
    "    \n",
    "    def _initialize_with_zeros(self, dim):\n",
    "        \"\"\"\n",
    "        This function creates a vector of zeros of shape (dim, 1) for w and initializes b to 0\n",
    "        \"\"\"\n",
    "\n",
    "        ### START CODE HERE ### (≈ 1 line of code)\n",
    "        w = np.zeros((dim,1))\n",
    "        b = 0\n",
    "        ### END CODE HERE ###\n",
    "\n",
    "        assert(w.shape == (dim, 1))\n",
    "        assert(isinstance(b, float) or isinstance(b, int))\n",
    "\n",
    "        return w, b\n",
    "\n",
    "    def _propagate(self, w, b, X, Y):\n",
    "        \"\"\"\n",
    "            Forward Propagation\n",
    "        \"\"\"\n",
    "\n",
    "        m = X.shape[1]\n",
    "\n",
    "        # FORWARD PROPAGATION (FROM X TO COST)\n",
    "        A = self.activationFunctions.sigmoid(np.dot(w.T, X) + b)                    # compute activation\n",
    "        cost = (-1 / m) * np.sum(Y * np.log(A) + (1 - Y) * np.log(1 - A))           # compute cost\n",
    "\n",
    "        # BACKWARD PROPAGATION \n",
    "        dw = (1 / m) * np.dot(X, (A - Y).T)\n",
    "        db = (1 / m) * np.sum(A - Y)\n",
    "\n",
    "        assert(dw.shape == w.shape)\n",
    "        assert(db.dtype == float)\n",
    "        cost = np.squeeze(cost)\n",
    "        assert(cost.shape == ())\n",
    "\n",
    "        grads = {\"dw\": dw,\n",
    "                 \"db\": db}\n",
    "\n",
    "        return grads, cost\n",
    "    \n",
    "    def _optimize(self, w, b, X, Y, num_iterations, learning_rate, print_cost = False):\n",
    "        \"\"\"\n",
    "        This function optimizes w and b by running a gradient descent algorithm\n",
    "        \"\"\"\n",
    "        costs = []\n",
    "\n",
    "        for i in range(num_iterations):\n",
    "            # Cost and gradient calculation\n",
    "            grads, cost = self._propagate(w, b, X, Y)\n",
    "\n",
    "            # Retrieve derivatives from grads\n",
    "            dw = grads[\"dw\"]\n",
    "            db = grads[\"db\"]\n",
    "\n",
    "            # update rule (≈ 2 lines of code)\n",
    "            w = w - learning_rate * dw\n",
    "            b = b - learning_rate * db\n",
    "\n",
    "            # Record the costs\n",
    "            if i % 100 == 0:\n",
    "                costs.append(cost)\n",
    "\n",
    "            # Print the cost every 100 training iterations\n",
    "            if print_cost and i % 100 == 0:\n",
    "                print (\"Cost after iteration %i: %f\" %(i, cost))\n",
    "\n",
    "        params = {\"w\": w,\n",
    "                  \"b\": b}\n",
    "\n",
    "        grads = {\"dw\": dw,\n",
    "                 \"db\": db}\n",
    "\n",
    "        return params, grads, costs\n",
    "    \n",
    "    def _predict(self, w, b, X, threshold = 0.5):\n",
    "        '''\n",
    "        Predict whether the label is 0 or 1 using learned logistic regression parameters (w, b)\n",
    "        '''\n",
    "\n",
    "        m = X.shape[1]\n",
    "        Y_prediction = np.zeros((1,m))\n",
    "        w = w.reshape(X.shape[0], 1)\n",
    "\n",
    "        # Compute vector \"A\" predicting the probabilities of a cat being present in the picture\n",
    "        A = activationFunctions.sigmoid(np.dot(w.T, X) + b)\n",
    "\n",
    "        for i in range(A.shape[1]):\n",
    "\n",
    "            # Convert probabilities A[0,i] to actual predictions p[0,i]\n",
    "            Y_prediction[0,i] = 0 if A[0,i] < threshold else 1\n",
    "\n",
    "        assert(Y_prediction.shape == (1, m))\n",
    "\n",
    "        return Y_prediction\n",
    "    \n",
    "    def train(self, X_train, Y_train, num_iterations = 2000, learning_rate = 0.5, print_cost = False):\n",
    "        \"\"\"\n",
    "        Builds the logistic regression model by calling the function you've implemented previously\n",
    "        \"\"\"\n",
    "\n",
    "        # initialize parameters with zeros\n",
    "        w, b = initialize_with_zeros(X_train.shape[0] )\n",
    "\n",
    "        # Gradient descent \n",
    "        parameters, grads, costs = optimize(w, b, X_train, Y_train, num_iterations, learning_rate, print_cost)\n",
    "\n",
    "        # Retrieve parameters w and b from dictionary \"parameters\"\n",
    "        self.w = parameters[\"w\"]\n",
    "        self.b = parameters[\"b\"]\n",
    "        \n",
    "        Y_predict = _predict(self.w, self.b, X_train)\n",
    "        print(\"Accuracy: {} %\".format(100 - np.mean(np.abs(Y_predict - Y_train)) * 100))\n",
    "\n",
    "    def get_metrics(self, X, Y, show_results = False):\n",
    "        \n",
    "        Y_predict = _predict(self.w, self.b, X)\n",
    "\n",
    "        # Print train/test Errors\n",
    "        if show_results: print(\"Accuracy: {} %\".format(100 - np.mean(np.abs(Y_predict - Y)) * 100))\n",
    "        return {\"Accuracy\": (1 - np.mean(np.abs(Y_predict - Y)))}\n",
    "    \n",
    "    \n",
    "    def predict(self, X, threshold = 0.5):\n",
    "        return _predict(self.w, self.b, X, threshold)\n",
    "    \n",
    "    \n",
    "#     def train_with_gridsearch(self, X_train, Y_train, grid_search, keepAll = False):\n",
    "        \n",
    "#         if \"learning_rate\" not in grid_search.keys(): grid_search[\"learning_rate\"] = self.default_learning_rate\n",
    "#         if \"num_iterations\" not in grid_search.keys(): grid_search[\"num_iterations\"] = self.default_num_iterations\n",
    "\n",
    "#         size_train_set = int(len(X_train) * .80)\n",
    "#         X_train_set = X_train[:size_train_set]\n",
    "#         Y_train_set = Y_train[:size_train_set]\n",
    "#         X_validation = X_train[size_train_set:]\n",
    "#         Y_validation = Y_train[size_train_set:]\n",
    "\n",
    "#         models = []\n",
    "#         for i in it.product(*(grid_search[i] for i in sorted(grid_search))):\n",
    "#             w, b = initialize_with_zeros(X_train_set.shape[0] )\n",
    "#             # Gradient descent \n",
    "#             parameters, grads, costs = self._optimize(w, b, X_train_set, Y_train_set, i[1], i[0], print_cost = False)\n",
    "\n",
    "#             metrics = self.get_metrics(X_validation, Y_validation)\n",
    "#             if keepAll:\n",
    "#                 models.append({\"w\":w, \"b\":b, \"metrics\":metrics})\n",
    "#             else:\n",
    "#                 if metrics[\"Accuracy\"] > models[0][\"Accuracy\"]:\n",
    "#                     models = [{\"w\":w, \"b\":b, \"metrics\":metrics}]\n",
    "        \n",
    "#         return models\n",
    "    "
   ]
  },
  {
   "cell_type": "code",
   "execution_count": 170,
   "metadata": {
    "scrolled": true
   },
   "outputs": [
    {
     "name": "stdout",
     "output_type": "stream",
     "text": [
      "Cost after iteration 0: 0.693147\n",
      "Cost after iteration 100: 0.584508\n",
      "Cost after iteration 200: 0.466949\n",
      "Cost after iteration 300: 0.376007\n",
      "Cost after iteration 400: 0.331463\n",
      "Cost after iteration 500: 0.303273\n",
      "Cost after iteration 600: 0.279880\n",
      "Cost after iteration 700: 0.260042\n",
      "Cost after iteration 800: 0.242941\n",
      "Cost after iteration 900: 0.228004\n",
      "Cost after iteration 1000: 0.214820\n",
      "Cost after iteration 1100: 0.203078\n",
      "Cost after iteration 1200: 0.192544\n",
      "Cost after iteration 1300: 0.183033\n",
      "Cost after iteration 1400: 0.174399\n",
      "Cost after iteration 1500: 0.166521\n",
      "Cost after iteration 1600: 0.159305\n",
      "Cost after iteration 1700: 0.152667\n",
      "Cost after iteration 1800: 0.146542\n",
      "Cost after iteration 1900: 0.140872\n",
      "Accuracy: 99.04306220095694 %\n"
     ]
    }
   ],
   "source": [
    "l = LogisticRegression()\n",
    "l.train(train_set_x, train_set_y, num_iterations = 2000, learning_rate = 0.005, print_cost = True)"
   ]
  },
  {
   "cell_type": "code",
   "execution_count": 171,
   "metadata": {},
   "outputs": [
    {
     "data": {
      "text/plain": [
       "{'Accuracy': 0.7}"
      ]
     },
     "execution_count": 171,
     "metadata": {},
     "output_type": "execute_result"
    }
   ],
   "source": [
    "#Test \n",
    "l.get_metrics(test_set_x, test_set_y)"
   ]
  },
  {
   "cell_type": "code",
   "execution_count": 183,
   "metadata": {},
   "outputs": [],
   "source": [
    "gridSearch = {'num_iterations':[1000,2000,5000],\n",
    "              'learning_rate':[0.01, 0.001, 0.0001]}\n",
    "keepAll = False\n",
    "\n",
    "# l.train_with_gridsearch(train_set_x, test_set_y, gridSearch, keepAll)\n"
   ]
  },
  {
   "cell_type": "markdown",
   "metadata": {},
   "source": [
    "## Quick check"
   ]
  },
  {
   "cell_type": "code",
   "execution_count": 123,
   "metadata": {},
   "outputs": [
    {
     "name": "stdout",
     "output_type": "stream",
     "text": [
      "y = 0, you predicted that it is a \"non-cat\" picture.\n"
     ]
    },
    {
     "data": {
      "image/png": "[encoded data removed]",
      "text/plain": [
       "<Figure size 432x288 with 1 Axes>"
      ]
     },
     "metadata": {
      "needs_background": "light"
     },
     "output_type": "display_data"
    }
   ],
   "source": [
    "# Example of a picture that was wrongly classified.\n",
    "index = 5\n",
    "plt.imshow(test_set_x[:,index].reshape((num_px, num_px, 3)))\n",
    "print (\"y = \" + str(test_set_y[0,index]) + \", you predicted that it is a \\\"\" + classes[int(d[\"Y_prediction_test\"][0,index])].decode(\"utf-8\") +  \"\\\" picture.\")"
   ]
  },
  {
   "cell_type": "code",
   "execution_count": 124,
   "metadata": {},
   "outputs": [
    {
     "data": {
      "image/png": "[encoded data removed]",
      "text/plain": [
       "<Figure size 432x288 with 1 Axes>"
      ]
     },
     "metadata": {
      "needs_background": "light"
     },
     "output_type": "display_data"
    }
   ],
   "source": [
    "# Plot learning curve (with costs)\n",
    "costs = np.squeeze(d['costs'])\n",
    "plt.plot(costs)\n",
    "plt.ylabel('cost')\n",
    "plt.xlabel('iterations (per hundreds)')\n",
    "plt.title(\"Learning rate =\" + str(d[\"learning_rate\"]))\n",
    "plt.show()"
   ]
  },
  {
   "cell_type": "code",
   "execution_count": 125,
   "metadata": {},
   "outputs": [
    {
     "name": "stdout",
     "output_type": "stream",
     "text": [
      "learning rate is: 0.01\n",
      "train accuracy: 99.52153110047847 %\n",
      "test accuracy: 68.0 %\n",
      "\n",
      "-------------------------------------------------------\n",
      "\n",
      "learning rate is: 0.001\n",
      "train accuracy: 88.99521531100478 %\n",
      "test accuracy: 64.0 %\n",
      "\n",
      "-------------------------------------------------------\n",
      "\n",
      "learning rate is: 0.0001\n",
      "train accuracy: 68.42105263157895 %\n",
      "test accuracy: 36.0 %\n",
      "\n",
      "-------------------------------------------------------\n",
      "\n"
     ]
    },
    {
     "data": {
      "image/png": "[encoded data removed]",
      "text/plain": [
       "<Figure size 432x288 with 1 Axes>"
      ]
     },
     "metadata": {
      "needs_background": "light"
     },
     "output_type": "display_data"
    }
   ],
   "source": [
    "learning_rates = [0.01, 0.001, 0.0001]\n",
    "models = {}\n",
    "for i in learning_rates:\n",
    "    print (\"learning rate is: \" + str(i))\n",
    "    models[str(i)] = model(train_set_x, train_set_y, test_set_x, test_set_y, num_iterations = 1500, learning_rate = i, print_cost = False)\n",
    "    print ('\\n' + \"-------------------------------------------------------\" + '\\n')\n",
    "\n",
    "for i in learning_rates:\n",
    "    plt.plot(np.squeeze(models[str(i)][\"costs\"]), label= str(models[str(i)][\"learning_rate\"]))\n",
    "\n",
    "plt.ylabel('cost')\n",
    "plt.xlabel('iterations (hundreds)')\n",
    "\n",
    "legend = plt.legend(loc='upper center', shadow=True)\n",
    "frame = legend.get_frame()\n",
    "frame.set_facecolor('0.90')\n",
    "plt.show()"
   ]
  },
  {
   "cell_type": "code",
   "execution_count": null,
   "metadata": {},
   "outputs": [],
   "source": []
  }
 ],
 "metadata": {
  "kernelspec": {
   "display_name": "Python 3",
   "language": "python",
   "name": "python3"
  },
  "language_info": {
   "codemirror_mode": {
    "name": "ipython",
    "version": 3
   },
   "file_extension": ".py",
   "mimetype": "text/x-python",
   "name": "python",
   "nbconvert_exporter": "python",
   "pygments_lexer": "ipython3",
   "version": "3.7.4"
  }
 },
 "nbformat": 4,
 "nbformat_minor": 2
}
