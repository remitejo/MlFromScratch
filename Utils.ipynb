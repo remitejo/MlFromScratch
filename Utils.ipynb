{
 "cells": [
  {
   "cell_type": "code",
   "execution_count": 1,
   "metadata": {},
   "outputs": [],
   "source": [
    "import numpy as np"
   ]
  },
  {
   "cell_type": "code",
   "execution_count": 3,
   "metadata": {},
   "outputs": [],
   "source": [
    "class ActivationFunctions:\n",
    "    def sigmoid(self, x):\n",
    "        return 1 / (1 + np.exp(-x))\n",
    "    \n",
    "    def tanh(self, x):\n",
    "        return (np.exp(x) - np.exp(-x)) / (np.exp(x) + np.exp(-x))\n",
    "    \n",
    "    def reLU(self, x):\n",
    "        return np.maximum(0,x)\n",
    "    \n",
    "    def reLU_backward(self, dA, cache):\n",
    "        \"\"\"\n",
    "        Implement the backward propagation for a single RELU unit.\n",
    "        \"\"\"\n",
    "        Z = cache\n",
    "        dZ = np.array(dA, copy=True) # just converting dz to a correct object.\n",
    "        # When z <= 0, you should set dz to 0 as well. \n",
    "        dZ[Z <= 0] = 0\n",
    "        return dZ\n",
    "    \n",
    "    def sigmoid_backward(self, dA, cache):\n",
    "        \"\"\"\n",
    "        Implement the backward propagation for a single SIGMOID unit.\n",
    "        \"\"\"\n",
    "        Z = cache\n",
    "        s = 1/(1+np.exp(-Z))\n",
    "        dZ = dA * s * (1-s)\n",
    "        return dZ"
   ]
  },
  {
   "cell_type": "code",
   "execution_count": 2,
   "metadata": {},
   "outputs": [],
   "source": [
    "class LossFunctions:\n",
    "    \n",
    "    def L1(self, yhat, y):\n",
    "        '''\n",
    "            Return L1(ŷ ,y)=∑i=0m|y(i)−ŷ (i)|\n",
    "        '''\n",
    "        return np.sum(np.absolute(yhat - y))\n",
    "    \n",
    "    def L2(self, yhat, y):\n",
    "        '''\n",
    "            Return L1(ŷ ,y)=∑i=0m(y(i)−ŷ (i))^2\n",
    "        '''\n",
    "        return np.sum(np.square(yhat-y))"
   ]
  },
  {
   "cell_type": "code",
   "execution_count": 5,
   "metadata": {},
   "outputs": [],
   "source": [
    "class Normalizer:\n",
    "    def linear(self, x):\n",
    "        return x / np.linalg.norm(x, axis = 1, ord=2, keepdims=True)\n",
    "    \n",
    "    def softmax(self, x):\n",
    "        x_exp = np.exp(x)\n",
    "        return x_exp / np.sum(x_exp, axis = 1, keepdims=True)"
   ]
  }
 ],
 "metadata": {
  "kernelspec": {
   "display_name": "Python 3",
   "language": "python",
   "name": "python3"
  },
  "language_info": {
   "codemirror_mode": {
    "name": "ipython",
    "version": 3
   },
   "file_extension": ".py",
   "mimetype": "text/x-python",
   "name": "python",
   "nbconvert_exporter": "python",
   "pygments_lexer": "ipython3",
   "version": "3.7.4"
  }
 },
 "nbformat": 4,
 "nbformat_minor": 2
}
